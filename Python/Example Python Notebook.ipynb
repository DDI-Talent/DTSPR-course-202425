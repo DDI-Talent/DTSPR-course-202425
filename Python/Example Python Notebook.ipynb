{
 "cells": [
  {
   "cell_type": "markdown",
   "id": "588acc76-b953-449e-b104-32678e1d1677",
   "metadata": {},
   "source": [
    "# Test Python Notebook"
   ]
  },
  {
   "cell_type": "code",
   "execution_count": null,
   "id": "0276f035-62b5-4d34-b851-d21a3eb43657",
   "metadata": {},
   "outputs": [],
   "source": [
    "print(\"hello\")"
   ]
  }
 ],
 "metadata": {
  "kernelspec": {
   "display_name": "Python 3 (ipykernel)",
   "language": "python",
   "name": "python3"
  },
  "language_info": {
   "codemirror_mode": {
    "name": "ipython",
    "version": 3
   },
   "file_extension": ".py",
   "mimetype": "text/x-python",
   "name": "python",
   "nbconvert_exporter": "python",
   "pygments_lexer": "ipython3",
   "version": "3.11.9"
  }
 },
 "nbformat": 4,
 "nbformat_minor": 5
}
