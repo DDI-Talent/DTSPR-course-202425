{
 "cells": [
  {
   "cell_type": "markdown",
   "id": "1365be49-b037-4824-b38f-a186165188fa",
   "metadata": {},
   "source": [
    "## Pivoting data frames \n",
    "### Error of the Week 5 - Python"
   ]
  },
  {
   "cell_type": "markdown",
   "id": "4df1a718",
   "metadata": {},
   "source": [
    "Let's look at some pivoting errors in Python!\n",
    "\n",
    "The data we are using we created in Error-of-the-Week05.RMD. You may wish to complete the R Error of the Week first to better understand the data. Here will be pivoting wider the data that we made long in the R notebook. We have the observation variables `Question` and `Answer` as well as ID variables `id`, `age`, and `sex`. "
   ]
  },
  {
   "cell_type": "markdown",
   "id": "2b037db8",
   "metadata": {},
   "source": [
    "Let's say I have some data representing a questionnaire gathered from 20 participants. 5 questions were asked alongside demographic information of age and sex. "
   ]
  },
  {
   "cell_type": "code",
   "execution_count": null,
   "id": "84d3b252",
   "metadata": {},
   "outputs": [],
   "source": [
    "import pandas as pd"
   ]
  },
  {
   "cell_type": "code",
   "execution_count": null,
   "id": "a311d03b-d332-4197-abc4-0aff596a589f",
   "metadata": {},
   "outputs": [],
   "source": [
    "# read in data, found in the data folder \n",
    "qdata = pd.read_csv(\"../data/data_long.csv\")"
   ]
  },
  {
   "cell_type": "code",
   "execution_count": null,
   "id": "27c29b05-c744-4e45-92bb-c1983978d7b7",
   "metadata": {},
   "outputs": [],
   "source": [
    "# now lets do some data checks to see what we are working with \n",
    "qdata.head(20)"
   ]
  },
  {
   "cell_type": "code",
   "execution_count": null,
   "id": "06e2c3b9-77ef-4de0-bea9-001c5c7cf7e1",
   "metadata": {},
   "outputs": [],
   "source": [
    "print(qdata.describe())"
   ]
  },
  {
   "cell_type": "code",
   "execution_count": null,
   "id": "c5b89f21-5f16-4622-87a2-f57d5db4429b",
   "metadata": {},
   "outputs": [],
   "source": [
    "print(qdata.info())"
   ]
  },
  {
   "cell_type": "markdown",
   "id": "03293b04",
   "metadata": {},
   "source": [
    "Let's just make sure everything is as expected - so let's create some categories"
   ]
  },
  {
   "cell_type": "code",
   "execution_count": null,
   "id": "4a8627be-f390-4b6f-ad5d-09d61ebbdd2f",
   "metadata": {},
   "outputs": [],
   "source": [
    "qdata.id = qdata.id.astype('category')\n",
    "qdata.sex = qdata.sex.astype('category')"
   ]
  },
  {
   "cell_type": "markdown",
   "id": "5047c05b",
   "metadata": {},
   "source": [
    "Check the data frame again"
   ]
  },
  {
   "cell_type": "code",
   "execution_count": null,
   "id": "164bf0cb-3684-4676-844f-081d271f777c",
   "metadata": {
    "scrolled": true
   },
   "outputs": [],
   "source": [
    "print(qdata.info())"
   ]
  },
  {
   "cell_type": "code",
   "execution_count": null,
   "id": "0924a15e-11f1-4521-8087-c38b8120a5af",
   "metadata": {},
   "outputs": [],
   "source": [
    "qdata.id"
   ]
  },
  {
   "cell_type": "markdown",
   "id": "2254fef4",
   "metadata": {},
   "source": [
    "## Now let's pivot wider"
   ]
  },
  {
   "cell_type": "code",
   "execution_count": null,
   "id": "2bf15925-49b8-491b-9121-5a4994367868",
   "metadata": {},
   "outputs": [],
   "source": [
    "qdata_wide = qdata.pivot(index = [\"id\", \"age\", \"sex\"], # remember we can pass a list to the index parameter \n",
    "                       columns = \"Question\",\n",
    "                       values = \"Answer\")"
   ]
  },
  {
   "cell_type": "markdown",
   "id": "4a502f4f",
   "metadata": {},
   "source": [
    "Let's see if it worked!"
   ]
  },
  {
   "cell_type": "code",
   "execution_count": null,
   "id": "c654a289-2325-4e4a-8b63-16a0850905aa",
   "metadata": {
    "scrolled": true
   },
   "outputs": [],
   "source": [
    "print(qdata_wide)"
   ]
  },
  {
   "cell_type": "code",
   "execution_count": null,
   "id": "2ebdf2e7-ff56-41b6-b5a0-89c41300c36a",
   "metadata": {
    "scrolled": true
   },
   "outputs": [],
   "source": [
    "qdata_wide.info()"
   ]
  },
  {
   "cell_type": "code",
   "execution_count": null,
   "id": "05c5707a-ab73-4193-9e1e-198e07e623fc",
   "metadata": {
    "scrolled": true
   },
   "outputs": [],
   "source": [
    "qdata_wide.id"
   ]
  },
  {
   "cell_type": "markdown",
   "id": "68208828",
   "metadata": {},
   "source": [
    "Wait, is that not right? Why do we only have 5 columns as stated in the `.info` method, and why can we not access the `id` column? "
   ]
  },
  {
   "cell_type": "code",
   "execution_count": null,
   "id": "74426b45-6d8b-46ba-bcf5-21a4060f02b3",
   "metadata": {},
   "outputs": [],
   "source": [
    "qdata_wide.Q_1"
   ]
  },
  {
   "cell_type": "markdown",
   "id": "1bd544d8",
   "metadata": {},
   "source": [
    "Okay, but I really want to be able to look at `id`, which clearly does not exist anymore... It lives in the index and as mentioned in the `.info` method, we now have a MultiIndex... so what can we do?"
   ]
  },
  {
   "cell_type": "markdown",
   "id": "47a6068f",
   "metadata": {},
   "source": [
    "Let's try the `pd.DataFrame.reset_index`"
   ]
  },
  {
   "cell_type": "code",
   "execution_count": null,
   "id": "a1acd798-f195-44ac-9ff2-f6d023913c07",
   "metadata": {},
   "outputs": [],
   "source": [
    "help(pd.DataFrame.reset_index)"
   ]
  },
  {
   "cell_type": "code",
   "execution_count": null,
   "id": "ccadec6c-c0c6-4e0d-9aa7-d24da98db0fa",
   "metadata": {},
   "outputs": [],
   "source": [
    "qdata_wide_correct = qdata_wide.reset_index()\n",
    "\n",
    "print(qdata_wide_correct)"
   ]
  },
  {
   "cell_type": "markdown",
   "id": "3b27e149",
   "metadata": {},
   "source": [
    "Looks good! Let's check the info method of our dataframe"
   ]
  },
  {
   "cell_type": "code",
   "execution_count": null,
   "id": "b963b758-02d2-4713-9487-20a483bedc49",
   "metadata": {},
   "outputs": [],
   "source": [
    "qdata_wide_correct.info()"
   ]
  },
  {
   "cell_type": "markdown",
   "id": "099870ca",
   "metadata": {},
   "source": [
    "Let's see that we can get `id`"
   ]
  },
  {
   "cell_type": "code",
   "execution_count": null,
   "id": "3b624dec-efba-489c-a25f-1e0c699d070c",
   "metadata": {
    "scrolled": true
   },
   "outputs": [],
   "source": [
    "qdata_wide_correct.id"
   ]
  },
  {
   "cell_type": "markdown",
   "id": "722e87af-18e7-4af9-87ce-4de89aa59d91",
   "metadata": {},
   "source": [
    "## Woo! Success! \n",
    "\n",
    "Always remember to check your index after pivoting data frames in `pandas`, whether you wish to have a MultiIndex or not! Oftentimes times the most dangerous errors are those which do not result in an error message explicitly. "
   ]
  }
 ],
 "metadata": {
  "kernelspec": {
   "display_name": "Python 3 (ipykernel)",
   "language": "python",
   "name": "python3"
  },
  "language_info": {
   "codemirror_mode": {
    "name": "ipython",
    "version": 3
   },
   "file_extension": ".py",
   "mimetype": "text/x-python",
   "name": "python",
   "nbconvert_exporter": "python",
   "pygments_lexer": "ipython3",
   "version": "3.11.9"
  }
 },
 "nbformat": 4,
 "nbformat_minor": 5
}
